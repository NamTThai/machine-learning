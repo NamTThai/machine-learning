{
 "cells": [
  {
   "cell_type": "markdown",
   "metadata": {},
   "source": [
    "# Creating Customer Segments"
   ]
  },
  {
   "cell_type": "markdown",
   "metadata": {},
   "source": [
    "In this project you, will analyze a dataset containing annual spending amounts for internal structure, to understand the variation in the different types of customers that a wholesale distributor interacts with.\n",
    "\n",
    "Instructions:\n",
    "\n",
    "- Run each code block below by pressing **Shift+Enter**, making sure to implement any steps marked with a TODO.\n",
    "- Answer each question in the space provided by editing the blocks labeled \"Answer:\".\n",
    "- When you are done, submit the completed notebook (.ipynb) with all code blocks executed, as well as a .pdf version (File > Download as)."
   ]
  },
  {
   "cell_type": "code",
   "execution_count": 1,
   "metadata": {
    "collapsed": false
   },
   "outputs": [
    {
     "name": "stdout",
     "output_type": "stream",
     "text": [
      "Dataset has 440 rows, 6 columns\n",
      "   Fresh  Milk  Grocery  Frozen  Detergents_Paper  Delicatessen\n",
      "0  12669  9656     7561     214              2674          1338\n",
      "1   7057  9810     9568    1762              3293          1776\n",
      "2   6353  8808     7684    2405              3516          7844\n",
      "3  13265  1196     4221    6404               507          1788\n",
      "4  22615  5410     7198    3915              1777          5185\n"
     ]
    }
   ],
   "source": [
    "# Import libraries: NumPy, pandas, matplotlib\n",
    "import numpy as np\n",
    "import pandas as pd\n",
    "import matplotlib.pyplot as plt\n",
    "\n",
    "# Tell iPython to include plots inline in the notebook\n",
    "%matplotlib inline\n",
    "\n",
    "# Read dataset\n",
    "data = pd.read_csv(\"wholesale-customers.csv\")\n",
    "print \"Dataset has {} rows, {} columns\".format(*data.shape)\n",
    "print data.head()  # print the first 5 rows\n",
    "\n",
    "# Note: Adjust the data to have center at the origin first!\n",
    "from sklearn.preprocessing import MinMaxScaler\n",
    "scaler = MinMaxScaler((-1,1))\n",
    "data_scaled = scaler.fit_transform(data)"
   ]
  },
  {
   "cell_type": "markdown",
   "metadata": {},
   "source": [
    "## Feature Transformation"
   ]
  },
  {
   "cell_type": "markdown",
   "metadata": {},
   "source": [
    "**1)** In this section you will be using PCA and ICA to start to understand the structure of the data. Before doing any computations, what do you think will show up in your computations? List one or two ideas for what might show up as the first PCA dimensions, or what type of vectors will show up as ICA dimensions."
   ]
  },
  {
   "cell_type": "markdown",
   "metadata": {},
   "source": [
    "Answer: Some ideas about latent variables:\n",
    "#### For PCA:\n",
    "* Necessary goods: fresh, milk, grocery, frozen, detergents_paper\n",
    "* Quickly perishable: fresh, milk, grocery, delicatessen\n",
    "* Slowly or non-perishable: frozen, detergents, paper\n",
    "\n",
    "#### For ICA: \n",
    "* Necessary goods vs luxury goods\n",
    "* Perishable vs non-perishable"
   ]
  },
  {
   "cell_type": "markdown",
   "metadata": {},
   "source": [
    "### PCA"
   ]
  },
  {
   "cell_type": "code",
   "execution_count": 15,
   "metadata": {
    "collapsed": false
   },
   "outputs": [
    {
     "name": "stdout",
     "output_type": "stream",
     "text": [
      "[[-0.018545    0.49047312  0.57644674 -0.01741587  0.647882    0.08213992]\n",
      " [-0.86387717 -0.18182434  0.00363933 -0.39690977  0.12652721 -0.21701704]\n",
      " [ 0.50178356 -0.33371506  0.08680857 -0.65833746  0.22070584 -0.38365676]\n",
      " [-0.02403365 -0.62796031  0.19740892  0.60521878  0.35050483 -0.27744285]\n",
      " [-0.00662714 -0.46794556  0.20894177 -0.20580297  0.05718506  0.83168587]\n",
      " [-0.03104894 -0.0412685   0.75995608 -0.01031851 -0.6240232  -0.17403508]]\n",
      "[ 0.51948323  0.26407007  0.106061    0.06258016  0.03497422  0.01283132]\n"
     ]
    }
   ],
   "source": [
    "# TODO: Apply PCA with the same number of dimensions as variables in the dataset\n",
    "from sklearn.decomposition import PCA\n",
    "pca = PCA()\n",
    "pca.fit(data_scaled)\n",
    "\n",
    "# Print the components and the amount of variance in the data contained in each dimension\n",
    "print pca.components_\n",
    "print pca.explained_variance_ratio_"
   ]
  },
  {
   "cell_type": "markdown",
   "metadata": {},
   "source": [
    "**2)** How quickly does the variance drop off by dimension? If you were to use PCA on this dataset, how many dimensions would you choose for your analysis? Why?"
   ]
  },
  {
   "cell_type": "markdown",
   "metadata": {
    "collapsed": true
   },
   "source": [
    "Answer: The variance drops off really quickly after the second component. If I were to use PCA on this dataset, I would choose at least 2 and at most 4 components. The exact number will be decided after trying each value (Grid Search) with F1 score."
   ]
  },
  {
   "cell_type": "markdown",
   "metadata": {},
   "source": [
    "**3)** What do the dimensions seem to represent? How can you use this information?"
   ]
  },
  {
   "cell_type": "markdown",
   "metadata": {
    "collapsed": true
   },
   "source": [
    "Answer: \n",
    "\n",
    "* First component: Fresh produce seems to dominate this component. This makes sense because Fresh produce data has the highest standard deviation, almost 40% more than the second highest (grocery). \n",
    "\n",
    "* Second component: Strong correlation between Milk, Grocery and Detergents_Paper, explaining almost the other half of the variances. "
   ]
  },
  {
   "cell_type": "markdown",
   "metadata": {},
   "source": [
    "### ICA"
   ]
  },
  {
   "cell_type": "code",
   "execution_count": 16,
   "metadata": {
    "collapsed": false
   },
   "outputs": [
    {
     "name": "stdout",
     "output_type": "stream",
     "text": [
      "[[ 0.00884603  0.36125403 -0.26960453 -0.01121293  0.06833643 -0.14419466]\n",
      " [ 0.2230092  -0.0322613  -0.03197769 -0.0204306   0.04506221 -0.02394189]\n",
      " [-0.01153488  0.06726362 -0.316416   -0.01093082  0.03502706  0.03910392]\n",
      " [-0.02173246 -0.00880019 -0.02714317 -0.01605355  0.01019859  0.43403483]\n",
      " [-0.0160272   0.08715376  0.54910789 -0.04489054 -0.57462686 -0.13657233]\n",
      " [-0.04848214 -0.00504698  0.03572173  0.33909    -0.01111662 -0.14246657]]\n"
     ]
    },
    {
     "data": {
      "text/plain": [
       "<matplotlib.axes._subplots.AxesSubplot at 0x12034b00>"
      ]
     },
     "execution_count": 16,
     "metadata": {},
     "output_type": "execute_result"
    },
    {
     "data": {
      "image/png": "[encoded data removed]",
      "text/plain": [
       "<matplotlib.figure.Figure at 0xc808f60>"
      ]
     },
     "metadata": {},
     "output_type": "display_data"
    }
   ],
   "source": [
    "# TODO: Fit an ICA model to the data\n",
    "# Note: Adjust the data to have center at the origin first!\n",
    "# => This step has been done earlier with MinMaxScaler\n",
    "from sklearn.decomposition import FastICA\n",
    "ica = FastICA(n_components = data.shape[1], random_state=918)\n",
    "ica.fit(data_scaled)\n",
    "\n",
    "# Print the independent components\n",
    "print ica.components_\n",
    "\n",
    "# Visualize ICA result\n",
    "pd.DataFrame(ica.components_, columns=data.columns).plot(kind = 'bar', figsize = (12, 6))"
   ]
  },
  {
   "cell_type": "markdown",
   "metadata": {},
   "source": [
    "**4)** For each vector in the ICA decomposition, write a sentence or two explaining what sort of object or property it corresponds to. What could these components be used for?"
   ]
  },
  {
   "cell_type": "markdown",
   "metadata": {
    "collapsed": true
   },
   "source": [
    "Below are the vectors and its strong correspondences (Please note that the order of the vectors does not matter; they are linearly independent; The order of the vectors below might be different from what you'll see when printing `ica.components_`)\n",
    "\n",
    "* Vector 0: Delicatessen\n",
    "* Vector 1: Frozen and Delicatessen, negative correlation, frozen dominates. The underlying variable could be \"speed of perishing\"\n",
    "* Vector 2: Milk(+), Grocery(-) and Delicatessen(-). The underlying variable could be \"convenient edibles\"\n",
    "* Vector 3: Grocery\n",
    "* Vector 4: Grocery and Detergents_Paper, negative correlation. The underlying variable could be \"budget\": these items are substitutes under a tight budget \n",
    "* Vector 5: Fresh"
   ]
  },
  {
   "cell_type": "markdown",
   "metadata": {},
   "source": [
    "## Clustering\n",
    "\n",
    "In this section you will choose either K Means clustering or Gaussian Mixed Models clustering, which implements expectation-maximization. Then you will sample elements from the clusters to understand their significance."
   ]
  },
  {
   "cell_type": "markdown",
   "metadata": {},
   "source": [
    "### Choose a Cluster Type\n",
    "\n",
    "**5)** What are the advantages of using K Means clustering or Gaussian Mixture Models?"
   ]
  },
  {
   "cell_type": "markdown",
   "metadata": {},
   "source": [
    "Answer: The advantage of K Means clustering model includes scalability and richness (it's a great general purpose algorithm)\n",
    "\n",
    "I haven't learned Gaussian Mixture Model in the course"
   ]
  },
  {
   "cell_type": "markdown",
   "metadata": {},
   "source": [
    "**6)** Below is some starter code to help you visualize some cluster data. The visualization is based on [this demo](http://scikit-learn.org/stable/auto_examples/cluster/plot_kmeans_digits.html) from the sklearn documentation."
   ]
  },
  {
   "cell_type": "code",
   "execution_count": 4,
   "metadata": {
    "collapsed": true
   },
   "outputs": [],
   "source": [
    "# Import clustering modules\n",
    "from sklearn.cluster import KMeans\n",
    "from sklearn.mixture import GMM"
   ]
  },
  {
   "cell_type": "code",
   "execution_count": 5,
   "metadata": {
    "collapsed": false
   },
   "outputs": [
    {
     "name": "stdout",
     "output_type": "stream",
     "text": [
      "[[ 0.0408917   0.00824865]\n",
      " [ 0.09000658  0.07377718]\n",
      " [ 0.08094827  0.02749195]\n",
      " [-0.18458917 -0.05757255]\n",
      " [-0.04102739 -0.21266026]\n",
      " [-0.03472033  0.05276793]\n",
      " [-0.04053275  0.05513731]\n",
      " [ 0.02688573  0.08399289]\n",
      " [-0.08669149  0.13783465]\n",
      " [ 0.35581798  0.11491167]]\n"
     ]
    }
   ],
   "source": [
    "# TODO: First we reduce the data to two dimensions using PCA to capture variation\n",
    "pca2d = PCA(n_components=2)\n",
    "reduced_data = pca2d.fit_transform(data_scaled)\n",
    "print reduced_data[:10]  # print upto 10 elements"
   ]
  },
  {
   "cell_type": "code",
   "execution_count": 6,
   "metadata": {
    "collapsed": false
   },
   "outputs": [
    {
     "name": "stdout",
     "output_type": "stream",
     "text": [
      "KMeans(copy_x=True, init='k-means++', max_iter=300, n_clusters=2, n_init=10,\n",
      "    n_jobs=1, precompute_distances='auto', random_state=None, tol=0.0001,\n",
      "    verbose=0)\n",
      "KMeans(copy_x=True, init='k-means++', max_iter=300, n_clusters=3, n_init=10,\n",
      "    n_jobs=1, precompute_distances='auto', random_state=None, tol=0.0001,\n",
      "    verbose=0)\n"
     ]
    }
   ],
   "source": [
    "# TODO: Implement your clustering algorithm here, and fit it to the reduced data for visualization\n",
    "# The visualizer below assumes your clustering object is named 'clusters'\n",
    "\n",
    "clusters2c = KMeans(n_clusters=2)\n",
    "clusters3c = KMeans(n_clusters=3)\n",
    "clusters2c.fit(reduced_data)\n",
    "clusters3c.fit(reduced_data)\n",
    "print clusters2c\n",
    "print clusters3c"
   ]
  },
  {
   "cell_type": "code",
   "execution_count": 7,
   "metadata": {
    "collapsed": false
   },
   "outputs": [],
   "source": [
    "# Plot the decision boundary by building a mesh grid to populate a graph.\n",
    "x_min, x_max = reduced_data[:, 0].min() - 1, reduced_data[:, 0].max() + 1\n",
    "y_min, y_max = reduced_data[:, 1].min() - 1, reduced_data[:, 1].max() + 1\n",
    "hx = (x_max-x_min)/1000.\n",
    "hy = (y_max-y_min)/1000.\n",
    "xx, yy = np.meshgrid(np.arange(x_min, x_max, hx), np.arange(y_min, y_max, hy))\n",
    "\n",
    "# Obtain labels for each point in mesh. Use last trained model.\n",
    "Z2 = clusters2c.predict(np.c_[xx.ravel(), yy.ravel()])\n",
    "Z3 = clusters3c.predict(np.c_[xx.ravel(), yy.ravel()])"
   ]
  },
  {
   "cell_type": "code",
   "execution_count": 8,
   "metadata": {
    "collapsed": false
   },
   "outputs": [
    {
     "name": "stdout",
     "output_type": "stream",
     "text": [
      "[[  7.63793167e-01  -3.40715273e-03]\n",
      " [ -9.13442210e-02   4.07471191e-04]]\n",
      "[[-0.15007641 -0.02732374]\n",
      " [ 1.4270389  -0.34221452]\n",
      " [ 0.29018749  0.12035043]]\n"
     ]
    }
   ],
   "source": [
    "# TODO: Find the centroids for KMeans or the cluster means for GMM \n",
    "\n",
    "centroids2c = clusters2c.cluster_centers_\n",
    "centroids3c = clusters3c.cluster_centers_\n",
    "#centroids = clusters.means_\n",
    "print centroids2c\n",
    "print centroids3c"
   ]
  },
  {
   "cell_type": "code",
   "execution_count": 9,
   "metadata": {
    "collapsed": false
   },
   "outputs": [
    {
     "data": {
      "image/png": "[encoded data removed]",
      "text/plain": [
       "<matplotlib.figure.Figure at 0xc874b00>"
      ]
     },
     "metadata": {},
     "output_type": "display_data"
    },
    {
     "data": {
      "image/png": "[encoded data removed]",
      "text/plain": [
       "<matplotlib.figure.Figure at 0xc819320>"
      ]
     },
     "metadata": {},
     "output_type": "display_data"
    }
   ],
   "source": [
    "# Put the result into a color plot\n",
    "Z2 = Z2.reshape(xx.shape)\n",
    "plt.figure(1)\n",
    "plt.clf()\n",
    "plt.imshow(Z2, interpolation='nearest',\n",
    "           extent=(xx.min(), xx.max(), yy.min(), yy.max()),\n",
    "           cmap=plt.cm.Paired,\n",
    "           aspect='auto', origin='lower')\n",
    "\n",
    "plt.plot(reduced_data[:, 0], reduced_data[:, 1], 'k.', markersize=2)\n",
    "plt.scatter(centroids2c[:, 0], centroids2c[:, 1],\n",
    "            marker='x', s=169, linewidths=3,\n",
    "            color='w', zorder=10)\n",
    "plt.title('Clustering on the wholesale grocery dataset (PCA-reduced data)\\n'\n",
    "          'Centroids are marked with white cross')\n",
    "plt.xlim(x_min, x_max)\n",
    "plt.ylim(y_min, y_max)\n",
    "plt.xticks(())\n",
    "plt.yticks(())\n",
    "plt.show()\n",
    "\n",
    "# Another plot for 3 clusters\n",
    "Z3 = Z3.reshape(xx.shape)\n",
    "plt.figure(2)\n",
    "plt.clf()\n",
    "plt.imshow(Z3, interpolation='nearest',\n",
    "           extent=(xx.min(), xx.max(), yy.min(), yy.max()),\n",
    "           cmap=plt.cm.Paired,\n",
    "           aspect='auto', origin='lower')\n",
    "\n",
    "plt.plot(reduced_data[:, 0], reduced_data[:, 1], 'k.', markersize=2)\n",
    "plt.scatter(centroids3c[:, 0], centroids3c[:, 1],\n",
    "            marker='x', s=169, linewidths=3,\n",
    "            color='w', zorder=10)\n",
    "plt.title('Clustering on the wholesale grocery dataset (PCA-reduced data)\\n'\n",
    "          'Centroids are marked with white cross')\n",
    "plt.xlim(x_min, x_max)\n",
    "plt.ylim(y_min, y_max)\n",
    "plt.xticks(())\n",
    "plt.yticks(())\n",
    "plt.show()"
   ]
  },
  {
   "cell_type": "code",
   "execution_count": 11,
   "metadata": {
    "collapsed": false
   },
   "outputs": [
    {
     "name": "stdout",
     "output_type": "stream",
     "text": [
      "[[-0.79726645 -0.46841431 -0.38838478 -0.91179425 -0.3645636  -0.87303205]\n",
      " [-0.78470329 -0.8885298  -0.88131205 -0.89841535 -0.91810907 -0.9441008 ]]\n",
      "[[ 11371.08090754  19575.62407045  28374.91283508   2708.39529232\n",
      "   12973.52775015   3046.42173856]\n",
      " [ 12075.54757594   4148.35284654   5508.75597138   3115.40819659\n",
      "    1674.55774998   1342.90376155]]\n"
     ]
    }
   ],
   "source": [
    "# Obtain original customer information\n",
    "centroids_before_pca = pca2d.inverse_transform(centroids2c)\n",
    "print centroids_before_pca\n",
    "centroids_before_scale = scaler.inverse_transform(centroids_before_pca)\n",
    "print centroids_before_scale"
   ]
  },
  {
   "cell_type": "markdown",
   "metadata": {},
   "source": [
    "**7)** What are the central objects in each cluster? Describe them as customers."
   ]
  },
  {
   "cell_type": "markdown",
   "metadata": {
    "collapsed": true
   },
   "source": [
    "Answer: After doing a PCA inverse transform on two centroids, I can deduce the following\n",
    "\n",
    "* The first centroid (customer) spent most amount of money on Fresh products\n",
    "* The second centroid (customer) spent significantly more on milk, grocery and detergents_paper"
   ]
  },
  {
   "cell_type": "markdown",
   "metadata": {},
   "source": [
    "### Conclusions\n",
    "\n",
    "** 8)** Which of these techniques did you feel gave you the most insight into the data?"
   ]
  },
  {
   "cell_type": "markdown",
   "metadata": {
    "collapsed": true
   },
   "source": [
    "Answer: PCA gave me the most insight to the data. It is interesting to see that there is correlation between products, and that they can be split into 2 groups: Fresh and (Milk, Grocery, Detergents_Paper). \n",
    "\n",
    "Interestingly, KMeans result also concurs with PCA analysis result. "
   ]
  },
  {
   "cell_type": "markdown",
   "metadata": {
    "collapsed": true
   },
   "source": [
    "**9)** How would you use that technique to help the company design new experiments?"
   ]
  },
  {
   "cell_type": "markdown",
   "metadata": {},
   "source": [
    "Answer: To be honest, I would choose to use a different learning technique, because there seems to be only one cluster, unless I messed up somewhere else.\n",
    "\n",
    "However, if I have to use this result, I will recommend the company to separate customers into 2 groups: those who spend more than half of their budget on Fresh products, and those who spend more than half of their budgets on (Milk, Grocery and Detergents_Paper) products. "
   ]
  },
  {
   "cell_type": "markdown",
   "metadata": {},
   "source": [
    "**10)** How would you use that data to help you predict future customer needs?"
   ]
  },
  {
   "cell_type": "markdown",
   "metadata": {},
   "source": [
    "Answer: I would say, I can't predict anything. Is this a trick question? I thought the purpose of this unsupervised learning project is to separate existing customers based on their spending patterns, so that the company can carry out better experiment. "
   ]
  }
 ],
 "metadata": {
  "kernelspec": {
   "display_name": "Python 2",
   "language": "python",
   "name": "python2"
  },
  "language_info": {
   "codemirror_mode": {
    "name": "ipython",
    "version": 2
   },
   "file_extension": ".py",
   "mimetype": "text/x-python",
   "name": "python",
   "nbconvert_exporter": "python",
   "pygments_lexer": "ipython2",
   "version": "2.7.10"
  }
 },
 "nbformat": 4,
 "nbformat_minor": 0
}
